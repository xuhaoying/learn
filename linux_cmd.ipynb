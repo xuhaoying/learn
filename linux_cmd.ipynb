{
 "cells": [
  {
   "cell_type": "code",
   "execution_count": 1,
   "id": "78fab1e6-9455-44c6-9ae1-7b012a9a3970",
   "metadata": {},
   "outputs": [
    {
     "name": "stdout",
     "output_type": "stream",
     "text": [
      "/d/Documents/Desktop/linux_cmd\n"
     ]
    }
   ],
   "source": [
    "!pwd"
   ]
  },
  {
   "cell_type": "markdown",
   "id": "1832d149-93a9-4051-aacd-8068b3c461bd",
   "metadata": {},
   "source": [
    "# 1. grep"
   ]
  },
  {
   "cell_type": "markdown",
   "id": "50812658-2312-4e42-a0e9-fd9bc0fa8059",
   "metadata": {},
   "source": [
    "grep 的名字来自于英文单词 \"global regular expression print\" 的缩写。它最初是由 Unix 工具箱的创始人 Ken Thompson 在 1973 年开发的。当时，他需要一种快速的文本搜索工具来处理一些复杂的任务，例如查找特定模式的文本字符串并将其输出到文件中。\n",
    "\n",
    "grep 的工作原理是使用正则表达式来匹配指定的文本模式，并将匹配到的行输出到标准输出流。"
   ]
  },
  {
   "cell_type": "markdown",
   "id": "df903697-d34d-4c41-8792-d350de8f8ee5",
   "metadata": {},
   "source": [
    "基本用法如下：\n",
    "\n",
    "`grep [options] pattern [file ...]`\n",
    "\n",
    "- pattern为要搜索的正则表达式模式，可以是一个简单的字符串，也可以是一个更复杂的正则表达式。\n",
    "- file为要搜索的文件名，如果不指定文件，则默认从标准输入中读取数据进行搜索。\n"
   ]
  },
  {
   "cell_type": "markdown",
   "id": "bfcd3af7-618f-48b8-bbfb-6ab81fb37667",
   "metadata": {},
   "source": [
    "grep 支持许多选项，常用的选项包括：\n",
    "\n",
    "- -i 忽略大小写\n",
    "- -v 反向匹配，即只输出不匹配的行\n",
    "- -n 显示匹配行的行号\n",
    "- -r 递归搜索子目录下的文件\n",
    "- -w 只匹配整个单词，而不是单词的一部分\n",
    "- -c：只显示匹配行的数量\n",
    "- -l：只显示文件名"
   ]
  },
  {
   "cell_type": "code",
   "execution_count": 28,
   "id": "531471c2-e3ff-4349-a219-7fd03def8d18",
   "metadata": {},
   "outputs": [
    {
     "name": "stdout",
     "output_type": "stream",
     "text": [
      "helloworld\n",
      "hello world\n"
     ]
    }
   ],
   "source": [
    "# 要查找文件 example.txt 中包含字符串 hello 的行\n",
    "!grep \"hello\" example.txt"
   ]
  },
  {
   "cell_type": "code",
   "execution_count": 29,
   "id": "cec63e6b-6b80-4eeb-8209-f1ed6c0ecd7d",
   "metadata": {},
   "outputs": [
    {
     "name": "stdout",
     "output_type": "stream",
     "text": [
      "Hello, World\n",
      "helloworld\n",
      "hello world\n"
     ]
    }
   ],
   "source": [
    "# 如果要忽略大小写，可以使用 -i 选项\n",
    "!grep -i \"hello\" example.txt"
   ]
  },
  {
   "cell_type": "code",
   "execution_count": 39,
   "id": "5042defe-4afa-4644-b57c-e7b277def84a",
   "metadata": {},
   "outputs": [
    {
     "name": "stdout",
     "output_type": "stream",
     "text": [
      "hi\n"
     ]
    }
   ],
   "source": [
    "# 只输出不匹配的行\n",
    "!grep -iv \"hello\" example.txt"
   ]
  },
  {
   "cell_type": "code",
   "execution_count": 31,
   "id": "554311a8-c416-4716-91d3-f9c45cf7485e",
   "metadata": {},
   "outputs": [
    {
     "name": "stdout",
     "output_type": "stream",
     "text": [
      "hello world\n"
     ]
    }
   ],
   "source": [
    "# 只匹配整个单词\n",
    "!grep -w \"hello\" example.txt"
   ]
  },
  {
   "cell_type": "code",
   "execution_count": 33,
   "id": "b77f719f-5e55-40bf-8bd2-484528157439",
   "metadata": {},
   "outputs": [
    {
     "name": "stdout",
     "output_type": "stream",
     "text": [
      "2\n"
     ]
    }
   ],
   "source": [
    "# 只显示匹配行的数量\n",
    "!grep -c \"hello\" example.txt"
   ]
  },
  {
   "cell_type": "code",
   "execution_count": 40,
   "id": "1bb30821-7522-47e4-b530-893292b14945",
   "metadata": {},
   "outputs": [
    {
     "name": "stdout",
     "output_type": "stream",
     "text": [
      "2:helloworld\n",
      "3:hello world\n"
     ]
    }
   ],
   "source": [
    "# 如果要显示匹配行的行号，可以使用 -n 选项：\n",
    "!grep -n hello example.txt"
   ]
  },
  {
   "cell_type": "code",
   "execution_count": 44,
   "id": "d9612474-8b2e-44eb-80a1-46b947e45feb",
   "metadata": {},
   "outputs": [
    {
     "name": "stdout",
     "output_type": "stream",
     "text": [
      "mydir/.ipynb_checkpoints/file-checkpoint:helloya\n",
      "mydir/.ipynb_checkpoints/test-checkpoint.log:hello\n",
      "mydir/file:helloya\n",
      "mydir/subdir1/.ipynb_checkpoints/file1-checkpoint:hello\n",
      "mydir/subdir1/.ipynb_checkpoints/file2-checkpoint:helloworld\n",
      "mydir/subdir1/file1:hello\n",
      "mydir/subdir1/file2:helloworld\n",
      "mydir/subdir2/.ipynb_checkpoints/file1-checkpoint:helloworld\n",
      "mydir/subdir2/.ipynb_checkpoints/file2-checkpoint:hello\n",
      "mydir/subdir2/file1:helloworld\n",
      "mydir/subdir2/file2:hello\n",
      "mydir/test.log:hello\n"
     ]
    }
   ],
   "source": [
    "# 递归搜索子目录 -r\n",
    "!grep -r \"hello\" mydir "
   ]
  },
  {
   "cell_type": "code",
   "execution_count": 45,
   "id": "355a2fbe-7d43-45cc-a7c2-8fa9596f546c",
   "metadata": {},
   "outputs": [
    {
     "name": "stdout",
     "output_type": "stream",
     "text": [
      "mydir/.ipynb_checkpoints/file-checkpoint:helloya\n",
      "mydir/file:helloya\n",
      "mydir/subdir1/.ipynb_checkpoints/file1-checkpoint:hello\n",
      "mydir/subdir1/.ipynb_checkpoints/file2-checkpoint:helloworld\n",
      "mydir/subdir1/file1:hello\n",
      "mydir/subdir1/file2:helloworld\n",
      "mydir/subdir2/.ipynb_checkpoints/file1-checkpoint:helloworld\n",
      "mydir/subdir2/.ipynb_checkpoints/file2-checkpoint:hello\n",
      "mydir/subdir2/file1:helloworld\n",
      "mydir/subdir2/file2:hello\n"
     ]
    }
   ],
   "source": [
    "# 如果要排除特定类型的文件，用 --exclude 参数\n",
    "# 递归搜索 mydir 目录及其子目录中除扩展名为 .log 的文件以外的所有文件，并打印所有包含 pattern 的行\n",
    "!grep -r \"hello\" --exclude=*.log mydir/"
   ]
  },
  {
   "cell_type": "code",
   "execution_count": 36,
   "id": "de5642c4-c0d4-4a57-81d7-ca006b5f270e",
   "metadata": {},
   "outputs": [
    {
     "name": "stdout",
     "output_type": "stream",
     "text": [
      "Folder PATH listing for volume fun\n",
      "Volume serial number is C8BD-5CB4\n",
      "D:\\DOCUMENTS\\DESKTOP\\LINUX_CMD\\TXT\n",
      "├───.ipynb_checkpoints\n",
      "├───subdir1\n",
      "│   └───.ipynb_checkpoints\n",
      "└───subdir2\n",
      "    └───.ipynb_checkpoints\n"
     ]
    }
   ],
   "source": []
  },
  {
   "cell_type": "code",
   "execution_count": null,
   "id": "c3f73137-c4ff-4fcf-8c51-906d96128d88",
   "metadata": {},
   "outputs": [],
   "source": []
  },
  {
   "cell_type": "code",
   "execution_count": null,
   "id": "93daa65c-503e-44d6-8492-f581ca02bc72",
   "metadata": {},
   "outputs": [],
   "source": []
  },
  {
   "cell_type": "code",
   "execution_count": null,
   "id": "8e63f25d-4865-4a5d-b6ec-748597771286",
   "metadata": {},
   "outputs": [],
   "source": []
  },
  {
   "cell_type": "code",
   "execution_count": null,
   "id": "facd5db6-3fbc-48ec-9081-d04cdb38f09c",
   "metadata": {},
   "outputs": [],
   "source": []
  },
  {
   "cell_type": "code",
   "execution_count": 5,
   "id": "3bd29b4b-1397-41a8-a77a-f8d6b8b17ac4",
   "metadata": {},
   "outputs": [
    {
     "name": "stdout",
     "output_type": "stream",
     "text": [
      "1:hello yaya\n",
      "4:hi - hello\n"
     ]
    }
   ],
   "source": []
  },
  {
   "cell_type": "code",
   "execution_count": null,
   "id": "5345a511-092e-4146-8b5f-64bffdc2d7b9",
   "metadata": {},
   "outputs": [],
   "source": []
  },
  {
   "cell_type": "code",
   "execution_count": null,
   "id": "1871c776-7754-47ce-95c3-60f10dddc0de",
   "metadata": {},
   "outputs": [],
   "source": []
  },
  {
   "cell_type": "code",
   "execution_count": null,
   "id": "a385159c-7ae0-4c9b-9c6a-d6e806d3ed50",
   "metadata": {},
   "outputs": [],
   "source": []
  },
  {
   "cell_type": "code",
   "execution_count": null,
   "id": "61baea45-651d-4d55-b5df-45942e086a42",
   "metadata": {},
   "outputs": [],
   "source": [
    "我将要详细讲解Linux命令的grep, sed, awk。请为我准备讲解内容，讲解时长为1h, 讲解需要深入到底层逻辑。"
   ]
  },
  {
   "cell_type": "code",
   "execution_count": null,
   "id": "d9bcb627-0dd3-4f2c-9b86-83a8ada9d8c4",
   "metadata": {},
   "outputs": [],
   "source": []
  },
  {
   "cell_type": "code",
   "execution_count": null,
   "id": "7abad904-4f20-410e-bb4c-ea7d9a29d63d",
   "metadata": {},
   "outputs": [],
   "source": []
  },
  {
   "cell_type": "code",
   "execution_count": null,
   "id": "94eac15c-1fce-414c-96a5-6b97f4dcb8d1",
   "metadata": {},
   "outputs": [],
   "source": []
  },
  {
   "cell_type": "code",
   "execution_count": null,
   "id": "612b5142-ce53-403b-9370-31c205e4d93e",
   "metadata": {},
   "outputs": [],
   "source": [
    "grep 是 Linux 系统中的一个文本搜索工具，用于在文本中查找指定的字符串，并将匹配到的行打印出来。\n",
    "\n",
    "基本用法如下：\n",
    "\n",
    "perl\n",
    "Copy code\n",
    "grep pattern file\n",
    "其中，pattern 为要搜索的字符串，file 为要搜索的文件名。如果没有指定文件名，则默认从标准输入中读取。\n",
    "\n",
    "如果要在多个文件中搜索，可以使用通配符 *，例如：\n",
    "\n",
    "perl\n",
    "Copy code\n",
    "grep pattern *\n",
    "grep 支持许多选项，常用的选项包括：\n",
    "\n",
    "-i 忽略大小写\n",
    "-v 反向匹配，即只输出不匹配的行\n",
    "-n 显示匹配行的行号\n",
    "-r 递归搜索子目录下的文件\n",
    "-w 只匹配整个单词，而不是单词的一部分\n",
    "例如，要查找文件 example.txt 中包含字符串 hello 的行，可以执行以下命令：\n",
    "\n",
    "perl\n",
    "Copy code\n",
    "grep hello example.txt\n",
    "如果要忽略大小写，可以使用 -i 选项：\n",
    "\n",
    "css\n",
    "Copy code\n",
    "grep -i hello example.txt\n",
    "如果要显示匹配行的行号，可以使用 -n 选项：\n",
    "\n",
    "perl\n",
    "Copy code\n",
    "grep -n hello example.txt\n",
    "如果要在多个文件中搜索，可以使用通配符 *：\n",
    "\n",
    "perl\n",
    "Copy code\n",
    "grep hello *\n",
    "还可以使用正则表达式来搜索字符串，例如：\n",
    "\n",
    "perl\n",
    "Copy code\n",
    "grep '^hello' example.txt\n",
    "上述命令将匹配以 hello 开头的行。"
   ]
  },
  {
   "cell_type": "code",
   "execution_count": null,
   "id": "ca83727c-ba90-4c40-9ad0-9f1d62a59ed4",
   "metadata": {},
   "outputs": [],
   "source": []
  },
  {
   "cell_type": "code",
   "execution_count": null,
   "id": "9b7e4013-6f20-414a-97f7-d96e3c106140",
   "metadata": {},
   "outputs": [],
   "source": [
    "一、 grep\n",
    "\n",
    "grep 简介及基本用法\n",
    "正则表达式介绍\n",
    "grep 与正则表达式的结合使用\n",
    "grep 命令的高级用法：\n",
    "指定搜索文件类型\n",
    "搜索多个文件\n",
    "输出匹配行的前后几行\n",
    "忽略大小写\n",
    "输出匹配行的行号\n",
    "排除指定的文件或文件夹\n",
    "递归搜索子目录\n",
    "输出匹配行的次数\n",
    "使用颜色高亮显示匹配的文本\n",
    "二、 sed\n",
    "\n",
    "sed 简介及基本用法\n",
    "sed 命令的高级用法：\n",
    "正则表达式的使用\n",
    "替换字符串\n",
    "删除行\n",
    "添加行\n",
    "插入行\n",
    "修改行\n",
    "其他命令（比如打印指定行、反转文本等）\n",
    "三、 awk\n",
    "\n",
    "awk 简介及基本用法\n",
    "awk 命令的高级用法：\n",
    "使用 awk 处理文本数据\n",
    "操作文件和输入/输出\n",
    "awk 程序的语法及结构\n",
    "awk 内置函数的使用\n",
    "awk 控制结构的使用\n",
    "awk 数组的使用\n",
    "四、 总结\n",
    "\n",
    "grep、sed、awk 的异同点及适用场景\n",
    "实例演示及练习\n",
    "以上内容大概需要1小时左右，具体时间还要根据听众的反应和问题而定。如果需要深入到底层，可以在每个命令的使用和高级用法中，深入讲解其底层实现原理和一些高级特性的使用。"
   ]
  },
  {
   "cell_type": "code",
   "execution_count": null,
   "id": "2c8584dd-97c9-45e0-9b4b-65339efd97b8",
   "metadata": {},
   "outputs": [],
   "source": [
    "一、grep\n",
    "\n",
    "grep 简介及基本用法\n",
    "grep 命令用于在文件中查找指定的字符串，并将包含该字符串的行输出到终端。其基本用法为：\n",
    "\n",
    "grep \"string\" filename\n",
    "\n",
    "其中，\"string\" 为要搜索的字符串，filename 为要搜索的文件名。\n",
    "\n",
    "正则表达式介绍\n",
    "grep 命令的强大之处在于其支持正则表达式。正则表达式是一种用于匹配文本的模式。下面是一些正则表达式的基本语法：\n",
    "\n",
    ". 匹配任意一个字符\n",
    "\n",
    "markdown\n",
    "Copy code\n",
    "      匹配前面的字符 0 次或多次\n",
    "markdown\n",
    "Copy code\n",
    "      匹配前面的字符 1 次或多次\n",
    "? 匹配前面的字符 0 次或 1 次\n",
    "[...] 匹配括号中的任意一个字符\n",
    "[^...] 不匹配括号中的任何一个字符\n",
    "^ 匹配行首\n",
    "$ 匹配行尾\n",
    "\\ 转义字符\n",
    "\n",
    "grep 与正则表达式的结合使用\n",
    "通过使用正则表达式，可以实现更灵活的搜索。例如，要在文件中搜索以 \"abc\" 开头的行，可以使用以下命令：\n",
    "\n",
    "grep \"^abc\" filename\n",
    "\n",
    "其中，^ 表示匹配行首。\n",
    "\n",
    "grep 命令的高级用法：\n",
    "\n",
    "指定搜索文件类型\n",
    "如果要搜索指定类型的文件，可以使用通配符 *。例如，要搜索当前目录下所有的 txt 文件，可以使用以下命令：\n",
    "grep \"string\" *.txt\n",
    "\n",
    "搜索多个文件\n",
    "如果要在多个文件中搜索指定的字符串，可以使用以下命令：\n",
    "grep \"string\" file1 file2 file3\n",
    "\n",
    "输出匹配行的前后几行\n",
    "如果要输出匹配行的前后几行，可以使用以下命令：\n",
    "grep -C n \"string\" filename\n",
    "\n",
    "其中，n 表示要输出的行数。\n",
    "\n",
    "忽略大小写\n",
    "如果要忽略大小写进行搜索，可以使用以下命令：\n",
    "grep -i \"string\" filename\n",
    "\n",
    "输出匹配行的行号\n",
    "如果要输出匹配行的行号，可以使用以下命令：\n",
    "grep -n \"string\" filename\n",
    "\n",
    "排除指定的文件或文件夹\n",
    "如果要排除指定的文件或文件夹进行搜索，可以使用以下命令：\n",
    "grep \"string\" --exclude=*.log --exclude-dir=dir1 filename\n",
    "\n",
    "其中，--exclude 表示要排除的文件类型，--exclude-dir 表示要排除的文件夹。\n",
    "\n",
    "递归搜索子目录\n",
    "如果要递归搜索子目录，可以使用以下命令：\n",
    "grep -r \"string"
   ]
  },
  {
   "cell_type": "code",
   "execution_count": null,
   "id": "2b475ea1-e1c3-4366-af72-634c2f203958",
   "metadata": {},
   "outputs": [],
   "source": [
    "接下来，我们来看一下awk命令。\n",
    "\n",
    "Awk命令\n",
    "Awk是一种文本处理工具，可用于在文件中进行模式匹配和处理文本。它使用一种特殊的语法结构，可以轻松地从文本中提取数据并将其转换为易于理解的格式。\n",
    "\n",
    "基本语法\n",
    "Awk命令的基本语法为：\n",
    "\n",
    "css\n",
    "Copy code\n",
    "awk [选项] 'pattern {action}' [文件名]\n",
    "其中，pattern是用来匹配文本的模式，action则是当模式匹配到文本时需要执行的操作。文件名则是可选的，如果不指定文件名，Awk将从标准输入读取数据。\n",
    "\n",
    "常用选项\n",
    "Awk命令的常用选项包括：\n",
    "\n",
    "-F：指定分隔符，默认为制表符。\n",
    "-v：定义一个变量，并将其传递给Awk脚本。\n",
    "-f：指定Awk脚本文件。\n",
    "实例演示\n",
    "下面，我们来演示一些常见的Awk命令的使用方法。\n",
    "\n",
    "1. 显示文件内容\n",
    "我们可以使用下面的命令来显示文件的所有内容：\n",
    "\n",
    "arduino\n",
    "Copy code\n",
    "awk '{print}' file.txt\n",
    "其中，{print}表示打印所有行，这里省略了模式部分。\n",
    "\n",
    "2. 提取特定列\n",
    "我们可以使用下面的命令来提取文件的特定列：\n",
    "\n",
    "swift\n",
    "Copy code\n",
    "awk '{print $2,$3}' file.txt\n",
    "其中，$2和$3表示第二列和第三列，用空格分隔。\n",
    "\n",
    "3. 匹配特定模式\n",
    "我们可以使用下面的命令来匹配特定模式：\n",
    "\n",
    "arduino\n",
    "Copy code\n",
    "awk '/pattern/ {print}' file.txt\n",
    "其中，/pattern/表示要匹配的模式，如果匹配成功，将会执行后面的打印操作。\n",
    "\n",
    "4. 计算总和\n",
    "我们可以使用下面的命令来计算某个列的总和：\n",
    "\n",
    "arduino\n",
    "Copy code\n",
    "awk '{sum+=$1} END {print sum}' file.txt\n",
    "其中，sum+=$1表示对第一列求和，最后在END语句块中打印求和结果。\n",
    "\n",
    "5. 替换文本\n",
    "我们可以使用下面的命令来替换文件中的文本：\n",
    "\n",
    "scss\n",
    "Copy code\n",
    "awk '{gsub(/pattern/,\"replacement\")} {print}' file.txt\n",
    "其中，gsub(/pattern/,\"replacement\")表示将文件中所有匹配到的pattern替换为replacement。\n",
    "\n",
    "6. 过滤行\n",
    "我们可以使用下面的命令来过滤文件中的行：\n",
    "\n",
    "arduino\n",
    "Copy code\n",
    "awk '/pattern/ {next} {print}' file.txt\n",
    "其中，/pattern/ {next}表示如果匹配到了pattern，则直接跳过该行，不执行后续操作。\n",
    "\n",
    "以上仅是Awk命令的一些常见用法，还有更多更"
   ]
  },
  {
   "cell_type": "code",
   "execution_count": null,
   "id": "3a0a4611-932a-480a-9359-771804199b2c",
   "metadata": {},
   "outputs": [],
   "source": [
    "awk的常见应用举例：可以使用awk进行文件处理，字符串处理以及数据格式化等多种任务。以下是awk的一些常见应用举例：\n",
    "数据格式化：awk可以将数据格式化为不同的布局，例如将制表符分隔的数据转换为CSV格式。\n",
    "统计：awk可以轻松地对数据进行计数、求和等统计操作。\n",
    "数据过滤：使用awk可以根据特定的模式从文件中过滤出所需的数据。例如，可以使用awk从日志文件中筛选出特定时间段内的日志记录。\n",
    "数据转换：使用awk可以将数据从一种格式转换为另一种格式。例如，可以使用awk将某个文件中的日期格式转换为另一种日期格式。\n",
    "数据匹配：使用awk可以匹配特定的字符串，并根据匹配结果进行相应的操作。例如，可以使用awk搜索某个文件中的特定单词，并将其替换为另一个单词。\n",
    "总结：grep、sed和awk是Linux中最常用的命令行工具之一，它们可以轻松地进行文本处理、数据处理和文件处理等多种任务。在学习和使用这些工具时，需要理解它们的工作原理、语法规则和常见应用，并掌握一定的技巧和经验。熟练使用这些命令可以提高工作效率和数据处理能力，也是成为一名优秀的Linux管理员和开发人员的必备技能之一。"
   ]
  },
  {
   "cell_type": "code",
   "execution_count": null,
   "id": "8f1ce058-106b-49e5-982a-7be29fe224ef",
   "metadata": {},
   "outputs": [],
   "source": [
    "sed命令概述：sed是一种流编辑器，可以对文本进行处理和转换。它可以对文本文件进行编辑、替换、删除等操作，还可以通过脚本实现更加复杂的文本处理任务。与grep和awk不同，sed主要用于处理单行文本，而不是多行文本。\n",
    "\n",
    "sed命令语法：sed命令的基本语法格式为：\n",
    "\n",
    "arduino\n",
    "Copy code\n",
    "sed [选项] '动作' 文件\n",
    "其中，选项可以用于控制sed的行为，动作表示对文本的操作，文件则指定要操作的文本文件。\n",
    "\n",
    "sed命令常用选项：\n",
    "-n：关闭默认输出，只输出经过sed处理后的结果。\n",
    "-i：直接修改文件，不输出到终端。\n",
    "-e：允许多个sed命令进行连续处理。\n",
    "-f：从指定文件中读取sed命令进行处理。\n",
    "sed命令常用动作：\n",
    "p：打印匹配行。\n",
    "d：删除匹配行。\n",
    "s：替换文本。\n",
    "a：在匹配行后添加新文本。\n",
    "i：在匹配行前插入新文本。\n",
    "c：用新文本替换匹配行。\n",
    "sed命令示例：\n",
    "打印匹配行：可以使用p动作打印匹配的行，例如：\n",
    "arduino\n",
    "Copy code\n",
    "sed -n '/pattern/p' filename\n",
    "删除匹配行：可以使用d动作删除匹配的行，例如：\n",
    "arduino\n",
    "Copy code\n",
    "sed '/pattern/d' filename\n",
    "替换文本：可以使用s动作进行文本替换，例如：\n",
    "arduino\n",
    "Copy code\n",
    "sed 's/old/new/' filename\n",
    "在匹配行后添加新文本：可以使用a动作在匹配行后添加新文本，例如：\n",
    "arduino\n",
    "Copy code\n",
    "sed '/pattern/a new text' filename\n",
    "在匹配行前插入新文本：可以使用i动作在匹配行前插入新文本，例如：\n",
    "arduino\n",
    "Copy code\n",
    "sed '/pattern/i new text' filename\n",
    "用新文本替换匹配行：可以使用c动作用新文本替换匹配行，例如：\n",
    "arduino\n",
    "Copy code\n",
    "sed '/pattern/c new text' filename\n",
    "sed命令高级应用：除了基本的文本处理功能，sed还可以通过脚本实现更加复杂的文本处理任务。sed脚本是一系列sed命令的集合，可以按照一定的规则对文本进行处理。以下是一些常见的sed脚本示例：\n",
    "打印匹配行及上下文行：\n",
    "mathematica\n",
    "Copy code\n",
    "sed -n '/pattern/{N;N;p;}' filename\n",
    "根据行号进行处理：\n",
    "arduino\n",
    "Copy code\n",
    "sed -n '2,4p' filename\n",
    "处理多个文件：\n",
    "rust\n",
    "Copy code\n",
    "sed 's"
   ]
  },
  {
   "cell_type": "code",
   "execution_count": null,
   "id": "59c71cf7-53f0-4817-9b8f-4a96bb7cceb9",
   "metadata": {},
   "outputs": [],
   "source": [
    "好的，我们来详细讲解一下sed的高级用法：\n",
    "\n",
    "原地编辑：默认情况下，sed将编辑后的文本打印到控制台上。但是，你可以使用-i选项来直接在原文件中编辑，而不会创建备份文件。例如，如果想在名为file.txt的文件中将所有出现的'old'替换为'new'，可以使用以下命令：sed -i 's/old/new/g' file.txt。使用这个选项时需要注意，它会直接修改原文件。\n",
    "\n",
    "正则表达式：正则表达式是一种强大的模式，可以用来匹配和操作文本。sed支持广泛的正则表达式。要在sed中使用正则表达式，需要将模式括在斜杠内。例如，如果想将名为file.txt文件中所有出现的'old'或'new'替换为'changed'，可以使用以下命令：sed 's/old\\|new/changed/g' file.txt。在这个例子中，\\|被用来指定逻辑或运算符。sed支持许多其他的正则表达式选项和功能，可用于实现复杂的文本操作任务。\n",
    "\n",
    "多个sed命令：sed可以接受多个命令作为输入，这些命令用分号隔开。每个命令在输入行上按顺序执行。例如，如果想删除所有包含'old'的行并将所有出现的'new'替换为'changed'，可以使用以下命令：sed '/old/d; s/new/changed/g' file.txt。在这个例子中，d用于删除匹配的行，s用于替换文本。\n",
    "\n",
    "使用变量：可以使用-e选项在sed中定义变量。例如，如果想将名为file.txt的文件中名为'old'的变量替换为名为'new'的变量，可以使用以下命令：sed -e \"s/$old/$new/g\" file.txt。在这个例子中，$old和$new变量是在sed之外定义的，然后使用双引号传递进来。"
   ]
  },
  {
   "cell_type": "code",
   "execution_count": null,
   "id": "1c65b1f2-a14b-4706-9de2-ee0465de23d5",
   "metadata": {},
   "outputs": [],
   "source": []
  },
  {
   "cell_type": "code",
   "execution_count": null,
   "id": "ec8c1ef5-44b2-49e0-87da-6fb35213bf33",
   "metadata": {},
   "outputs": [],
   "source": []
  },
  {
   "cell_type": "code",
   "execution_count": null,
   "id": "dec7a934-d723-471b-a9d1-18539461d796",
   "metadata": {},
   "outputs": [],
   "source": []
  }
 ],
 "metadata": {
  "kernelspec": {
   "display_name": "Python 3 (ipykernel)",
   "language": "python",
   "name": "python3"
  },
  "language_info": {
   "codemirror_mode": {
    "name": "ipython",
    "version": 3
   },
   "file_extension": ".py",
   "mimetype": "text/x-python",
   "name": "python",
   "nbconvert_exporter": "python",
   "pygments_lexer": "ipython3",
   "version": "3.9.12"
  }
 },
 "nbformat": 4,
 "nbformat_minor": 5
}
