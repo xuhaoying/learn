{
 "cells": [
  {
   "cell_type": "code",
   "execution_count": 1,
   "id": "78fab1e6-9455-44c6-9ae1-7b012a9a3970",
   "metadata": {},
   "outputs": [
    {
     "name": "stdout",
     "output_type": "stream",
     "text": [
      "/d/Documents/Desktop/linux_cmd\n"
     ]
    }
   ],
   "source": [
    "!pwd"
   ]
  },
  {
   "cell_type": "markdown",
   "id": "1832d149-93a9-4051-aacd-8068b3c461bd",
   "metadata": {},
   "source": [
    "# 1. grep"
   ]
  },
  {
   "cell_type": "markdown",
   "id": "50812658-2312-4e42-a0e9-fd9bc0fa8059",
   "metadata": {},
   "source": [
    "grep 的名字来自于英文单词 \"global regular expression print\" 的缩写。它最初是由 Unix 工具箱的创始人 Ken Thompson 在 1973 年开发的。当时，他需要一种快速的文本搜索工具来处理一些复杂的任务，例如查找特定模式的文本字符串并将其输出到文件中。\n",
    "\n",
    "grep 的工作原理是使用正则表达式来匹配指定的文本模式，并将匹配到的行输出到标准输出流。"
   ]
  },
  {
   "cell_type": "markdown",
   "id": "df903697-d34d-4c41-8792-d350de8f8ee5",
   "metadata": {},
   "source": [
    "基本用法如下：\n",
    "\n",
    "`grep [options] pattern [file ...]`\n",
    "\n",
    "- pattern为要搜索的正则表达式模式，可以是一个简单的字符串，也可以是一个更复杂的正则表达式。\n",
    "- file为要搜索的文件名，如果不指定文件，则默认从标准输入中读取数据进行搜索。\n"
   ]
  },
  {
   "cell_type": "markdown",
   "id": "bfcd3af7-618f-48b8-bbfb-6ab81fb37667",
   "metadata": {},
   "source": [
    "grep 支持许多选项，常用的选项包括：\n",
    "\n",
    "- -i 忽略大小写\n",
    "- -v 反向匹配，即只输出不匹配的行\n",
    "- -n 显示匹配行的行号\n",
    "- -r 递归搜索子目录下的文件\n",
    "- -w 只匹配整个单词，而不是单词的一部分\n",
    "- -c：只显示匹配行的数量\n",
    "- -l：只显示文件名"
   ]
  },
  {
   "cell_type": "code",
   "execution_count": 28,
   "id": "531471c2-e3ff-4349-a219-7fd03def8d18",
   "metadata": {},
   "outputs": [
    {
     "name": "stdout",
     "output_type": "stream",
     "text": [
      "helloworld\n",
      "hello world\n"
     ]
    }
   ],
   "source": [
    "# 要查找文件 example.txt 中包含字符串 hello 的行\n",
    "!grep \"hello\" example.txt"
   ]
  },
  {
   "cell_type": "code",
   "execution_count": 29,
   "id": "cec63e6b-6b80-4eeb-8209-f1ed6c0ecd7d",
   "metadata": {},
   "outputs": [
    {
     "name": "stdout",
     "output_type": "stream",
     "text": [
      "Hello, World\n",
      "helloworld\n",
      "hello world\n"
     ]
    }
   ],
   "source": [
    "# 如果要忽略大小写，可以使用 -i 选项\n",
    "!grep -i \"hello\" example.txt"
   ]
  },
  {
   "cell_type": "code",
   "execution_count": 39,
   "id": "5042defe-4afa-4644-b57c-e7b277def84a",
   "metadata": {},
   "outputs": [
    {
     "name": "stdout",
     "output_type": "stream",
     "text": [
      "hi\n"
     ]
    }
   ],
   "source": [
    "# 只输出不匹配的行\n",
    "!grep -iv \"hello\" example.txt"
   ]
  },
  {
   "cell_type": "code",
   "execution_count": 31,
   "id": "554311a8-c416-4716-91d3-f9c45cf7485e",
   "metadata": {},
   "outputs": [
    {
     "name": "stdout",
     "output_type": "stream",
     "text": [
      "hello world\n"
     ]
    }
   ],
   "source": [
    "# 只匹配整个单词\n",
    "!grep -w \"hello\" example.txt"
   ]
  },
  {
   "cell_type": "code",
   "execution_count": 33,
   "id": "b77f719f-5e55-40bf-8bd2-484528157439",
   "metadata": {},
   "outputs": [
    {
     "name": "stdout",
     "output_type": "stream",
     "text": [
      "2\n"
     ]
    }
   ],
   "source": [
    "# 只显示匹配行的数量\n",
    "!grep -c \"hello\" example.txt"
   ]
  },
  {
   "cell_type": "code",
   "execution_count": 40,
   "id": "1bb30821-7522-47e4-b530-893292b14945",
   "metadata": {},
   "outputs": [
    {
     "name": "stdout",
     "output_type": "stream",
     "text": [
      "2:helloworld\n",
      "3:hello world\n"
     ]
    }
   ],
   "source": [
    "# 如果要显示匹配行的行号，可以使用 -n 选项：\n",
    "!grep -n hello example.txt"
   ]
  },
  {
   "cell_type": "code",
   "execution_count": 44,
   "id": "d9612474-8b2e-44eb-80a1-46b947e45feb",
   "metadata": {},
   "outputs": [
    {
     "name": "stdout",
     "output_type": "stream",
     "text": [
      "mydir/.ipynb_checkpoints/file-checkpoint:helloya\n",
      "mydir/.ipynb_checkpoints/test-checkpoint.log:hello\n",
      "mydir/file:helloya\n",
      "mydir/subdir1/.ipynb_checkpoints/file1-checkpoint:hello\n",
      "mydir/subdir1/.ipynb_checkpoints/file2-checkpoint:helloworld\n",
      "mydir/subdir1/file1:hello\n",
      "mydir/subdir1/file2:helloworld\n",
      "mydir/subdir2/.ipynb_checkpoints/file1-checkpoint:helloworld\n",
      "mydir/subdir2/.ipynb_checkpoints/file2-checkpoint:hello\n",
      "mydir/subdir2/file1:helloworld\n",
      "mydir/subdir2/file2:hello\n",
      "mydir/test.log:hello\n"
     ]
    }
   ],
   "source": [
    "# 递归搜索子目录 -r\n",
    "!grep -r \"hello\" mydir "
   ]
  },
  {
   "cell_type": "code",
   "execution_count": 45,
   "id": "355a2fbe-7d43-45cc-a7c2-8fa9596f546c",
   "metadata": {},
   "outputs": [
    {
     "name": "stdout",
     "output_type": "stream",
     "text": [
      "mydir/.ipynb_checkpoints/file-checkpoint:helloya\n",
      "mydir/file:helloya\n",
      "mydir/subdir1/.ipynb_checkpoints/file1-checkpoint:hello\n",
      "mydir/subdir1/.ipynb_checkpoints/file2-checkpoint:helloworld\n",
      "mydir/subdir1/file1:hello\n",
      "mydir/subdir1/file2:helloworld\n",
      "mydir/subdir2/.ipynb_checkpoints/file1-checkpoint:helloworld\n",
      "mydir/subdir2/.ipynb_checkpoints/file2-checkpoint:hello\n",
      "mydir/subdir2/file1:helloworld\n",
      "mydir/subdir2/file2:hello\n"
     ]
    }
   ],
   "source": [
    "# 如果要排除特定类型的文件，用 --exclude 参数\n",
    "# 递归搜索 mydir 目录及其子目录中除扩展名为 .log 的文件以外的所有文件，并打印所有包含 pattern 的行\n",
    "!grep -r \"hello\" --exclude=*.log mydir/"
   ]
  },
  {
   "cell_type": "code",
   "execution_count": 2,
   "id": "de5642c4-c0d4-4a57-81d7-ca006b5f270e",
   "metadata": {
    "collapsed": true,
    "jupyter": {
     "outputs_hidden": true
    },
    "tags": []
   },
   "outputs": [
    {
     "name": "stdout",
     "output_type": "stream",
     "text": [
      "Usage: grep [OPTION]... PATTERN [FILE]...\n",
      "Search for PATTERN in each FILE or standard input.\n",
      "PATTERN is, by default, a basic regular expression (BRE).\n",
      "Example: grep -i 'hello world' menu.h main.c\n",
      "\n",
      "Regexp selection and interpretation:\n",
      "  -E, --extended-regexp     PATTERN is an extended regular expression (ERE)\n",
      "  -F, --fixed-strings       PATTERN is a set of newline-separated strings\n",
      "  -G, --basic-regexp        PATTERN is a basic regular expression (BRE)\n",
      "  -P, --perl-regexp         PATTERN is a Perl regular expression\n",
      "  -e, --regexp=PATTERN      use PATTERN for matching\n",
      "  -f, --file=FILE           obtain PATTERN from FILE\n",
      "  -i, --ignore-case         ignore case distinctions\n",
      "  -w, --word-regexp         force PATTERN to match only whole words\n",
      "  -x, --line-regexp         force PATTERN to match only whole lines\n",
      "  -z, --null-data           a data line ends in 0 byte, not newline\n",
      "\n",
      "Miscellaneous:\n",
      "  -s, --no-messages         suppress error messages\n",
      "  -v, --invert-match        select non-matching lines\n",
      "  -V, --version             display version information and exit\n",
      "      --help                display this help text and exit\n",
      "\n",
      "Output control:\n",
      "  -m, --max-count=NUM       stop after NUM matches\n",
      "  -b, --byte-offset         print the byte offset with output lines\n",
      "  -n, --line-number         print line number with output lines\n",
      "      --line-buffered       flush output on every line\n",
      "  -H, --with-filename       print the file name for each match\n",
      "  -h, --no-filename         suppress the file name prefix on output\n",
      "      --label=LABEL         use LABEL as the standard input file name prefix\n",
      "  -o, --only-matching       show only the part of a line matching PATTERN\n",
      "  -q, --quiet, --silent     suppress all normal output\n",
      "      --binary-files=TYPE   assume that binary files are TYPE;\n",
      "                            TYPE is 'binary', 'text', or 'without-match'\n",
      "  -a, --text                equivalent to --binary-files=text\n",
      "  -I                        equivalent to --binary-files=without-match\n",
      "  -d, --directories=ACTION  how to handle directories;\n",
      "                            ACTION is 'read', 'recurse', or 'skip'\n",
      "  -D, --devices=ACTION      how to handle devices, FIFOs and sockets;\n",
      "                            ACTION is 'read' or 'skip'\n",
      "  -r, --recursive           like --directories=recurse\n",
      "  -R, --dereference-recursive  likewise, but follow all symlinks\n",
      "      --include=FILE_PATTERN  search only files that match FILE_PATTERN\n",
      "      --exclude=FILE_PATTERN  skip files and directories matching FILE_PATTERN\n",
      "      --exclude-from=FILE   skip files matching any file pattern from FILE\n",
      "      --exclude-dir=PATTERN  directories that match PATTERN will be skipped.\n",
      "  -L, --files-without-match  print only names of FILEs containing no match\n",
      "  -l, --files-with-matches  print only names of FILEs containing matches\n",
      "  -c, --count               print only a count of matching lines per FILE\n",
      "  -T, --initial-tab         make tabs line up (if needed)\n",
      "  -Z, --null                print 0 byte after FILE name\n",
      "\n",
      "Context control:\n",
      "  -B, --before-context=NUM  print NUM lines of leading context\n",
      "  -A, --after-context=NUM   print NUM lines of trailing context\n",
      "  -C, --context=NUM         print NUM lines of output context\n",
      "  -NUM                      same as --context=NUM\n",
      "      --color[=WHEN],\n",
      "      --colour[=WHEN]       use markers to highlight the matching strings;\n",
      "                            WHEN is 'always', 'never', or 'auto'\n",
      "  -U, --binary              do not strip CR characters at EOL (MSDOS/Windows)\n",
      "  -u, --unix-byte-offsets   report offsets as if CRs were not there\n",
      "                            (MSDOS/Windows)\n",
      "\n",
      "'egrep' means 'grep -E'.  'fgrep' means 'grep -F'.\n",
      "Direct invocation as either 'egrep' or 'fgrep' is deprecated.\n",
      "When FILE is -, read standard input.  With no FILE, read . if a command-line\n",
      "-r is given, - otherwise.  If fewer than two FILEs are given, assume -h.\n",
      "Exit status is 0 if any line is selected, 1 otherwise;\n",
      "if any error occurs and -q is not given, the exit status is 2.\n",
      "\n",
      "Report bugs to: bug-grep@gnu.org\n",
      "GNU grep home page: <https://www.gnu.org/software/grep/>\n",
      "General help using GNU software: <http://www.gnu.org/gethelp/>\n"
     ]
    }
   ],
   "source": [
    "!grep --help"
   ]
  },
  {
   "cell_type": "code",
   "execution_count": 12,
   "id": "c3f73137-c4ff-4fcf-8c51-906d96128d88",
   "metadata": {},
   "outputs": [
    {
     "name": "stdout",
     "output_type": "stream",
     "text": [
      "mydir/.ipynb_checkpoints/test-checkpoint.log:hello\n",
      "mydir/test.log:hello\n"
     ]
    }
   ],
   "source": [
    "# 搜索指定文件类型 \n",
    "!grep 'hello' --include='*.log' -r mydir/"
   ]
  },
  {
   "cell_type": "code",
   "execution_count": 14,
   "id": "93daa65c-503e-44d6-8492-f581ca02bc72",
   "metadata": {},
   "outputs": [
    {
     "name": "stdout",
     "output_type": "stream",
     "text": [
      "mydir/.ipynb_checkpoints/file-checkpoint:helloya\n",
      "mydir/file:helloya\n",
      "mydir/subdir1/.ipynb_checkpoints/file1-checkpoint:hello\n",
      "mydir/subdir1/.ipynb_checkpoints/file2-checkpoint:helloworld\n",
      "mydir/subdir1/file1:hello\n",
      "mydir/subdir1/file2:helloworld\n",
      "mydir/subdir2/.ipynb_checkpoints/file1-checkpoint:helloworld\n",
      "mydir/subdir2/.ipynb_checkpoints/file2-checkpoint:hello\n",
      "mydir/subdir2/file1:helloworld\n",
      "mydir/subdir2/file2:hello\n"
     ]
    }
   ],
   "source": [
    "# 排除指定文件类型\n",
    "!grep 'hello' --exclude='*.log' -r mydir/"
   ]
  },
  {
   "cell_type": "markdown",
   "id": "69945eeb-07eb-42aa-9c64-f4398d96afce",
   "metadata": {},
   "source": [
    "`grep \"string\" --exclude=*.log --exclude-dir=dir1 filename`\n",
    "\n",
    "其中，--exclude 表示要排除的文件类型，--exclude-dir 表示要排除的文件夹。"
   ]
  },
  {
   "cell_type": "code",
   "execution_count": 16,
   "id": "8e63f25d-4865-4a5d-b6ec-748597771286",
   "metadata": {},
   "outputs": [
    {
     "name": "stdout",
     "output_type": "stream",
     "text": [
      "helloworld\n",
      "hello world\n"
     ]
    }
   ],
   "source": [
    "# 搜索hello或world字符串。\n",
    "!grep -e 'hello' -e 'world'  example.txt"
   ]
  },
  {
   "cell_type": "code",
   "execution_count": 18,
   "id": "facd5db6-3fbc-48ec-9081-d04cdb38f09c",
   "metadata": {},
   "outputs": [
    {
     "name": "stdout",
     "output_type": "stream",
     "text": [
      "error\n",
      "!\n",
      "!!!\n"
     ]
    }
   ],
   "source": [
    "# 搜索特定行数：-A、-B 和 -C 选项来指定要显示的匹配行前、行后或前后的行数。\n",
    "# 例如，要显示包含单词 \"error\" 的行及其后两行的内容，可以使用以下命令：\n",
    "!grep -A 2 'error' example.txt"
   ]
  },
  {
   "cell_type": "code",
   "execution_count": 19,
   "id": "3bd29b4b-1397-41a8-a77a-f8d6b8b17ac4",
   "metadata": {},
   "outputs": [
    {
     "name": "stdout",
     "output_type": "stream",
     "text": [
      "hello world\n",
      "hi\n",
      "error\n"
     ]
    }
   ],
   "source": [
    "!grep -B 2 'error' example.txt"
   ]
  },
  {
   "cell_type": "code",
   "execution_count": 20,
   "id": "5345a511-092e-4146-8b5f-64bffdc2d7b9",
   "metadata": {},
   "outputs": [
    {
     "name": "stdout",
     "output_type": "stream",
     "text": [
      "hello world\n",
      "hi\n",
      "error\n",
      "!\n",
      "!!!\n"
     ]
    }
   ],
   "source": [
    "!grep -C 2 'error' example.txt"
   ]
  },
  {
   "cell_type": "code",
   "execution_count": 32,
   "id": "e85c295e-6209-4c09-88f7-2e112675e655",
   "metadata": {},
   "outputs": [
    {
     "name": "stdout",
     "output_type": "stream",
     "text": [
      "helloworld\n",
      "hello world\n",
      "hi\n"
     ]
    }
   ],
   "source": [
    "# 搜索文件中所有包含（h, w）的行。\n",
    "!grep \"[hw]\" example.txt"
   ]
  },
  {
   "cell_type": "code",
   "execution_count": 33,
   "id": "6b68646a-5afb-4e07-bfa8-ffd5adb1b089",
   "metadata": {},
   "outputs": [
    {
     "name": "stdout",
     "output_type": "stream",
     "text": [
      "Hello, World\n",
      "helloworld\n",
      "hello world\n",
      "hi\n",
      "error\n",
      "!\n",
      "!!!\n",
      "!!!!!\n"
     ]
    }
   ],
   "source": [
    "!grep \"[^hew]\" example.txt"
   ]
  },
  {
   "cell_type": "code",
   "execution_count": 24,
   "id": "1871c776-7754-47ce-95c3-60f10dddc0de",
   "metadata": {},
   "outputs": [
    {
     "name": "stdout",
     "output_type": "stream",
     "text": [
      "helloworld\n",
      "hello world\n"
     ]
    }
   ],
   "source": [
    "# 搜索文件中所有包含字符串hello或world的行\n",
    "!grep \"hello\\|world\" example.txt"
   ]
  },
  {
   "cell_type": "code",
   "execution_count": 40,
   "id": "a385159c-7ae0-4c9b-9c6a-d6e806d3ed50",
   "metadata": {},
   "outputs": [
    {
     "name": "stdout",
     "output_type": "stream",
     "text": [
      "!!!\n",
      "!!!!!\n"
     ]
    }
   ],
   "source": [
    "# 搜索文件中所有包含两个连续!的行。\n",
    "!grep '!\\{2\\}' example.txt"
   ]
  },
  {
   "cell_type": "code",
   "execution_count": 42,
   "id": "68dfba88-2725-414e-bc84-5cd95b10ebf5",
   "metadata": {},
   "outputs": [
    {
     "name": "stdout",
     "output_type": "stream",
     "text": [
      "!!!!!\n"
     ]
    }
   ],
   "source": [
    "# 搜索文件中所有包含4个或5个连续!的行。\n",
    "!grep '!\\{4,5\\}' example.txt"
   ]
  },
  {
   "cell_type": "code",
   "execution_count": 43,
   "id": "8f0a7966-801b-4ea6-8930-643e50710832",
   "metadata": {},
   "outputs": [
    {
     "name": "stdout",
     "output_type": "stream",
     "text": [
      "!!!!!\n"
     ]
    }
   ],
   "source": [
    "# 包含至少4个连续!的行\n",
    "!grep '!\\{4,\\}' example.txt"
   ]
  },
  {
   "cell_type": "markdown",
   "id": "90123549-ade0-4e6b-963d-f2725aabb48c",
   "metadata": {},
   "source": [
    "**使用颜色高亮显示匹配的文本**\n",
    "\n",
    "`grep --color=auto \"pattern\" filename`\n",
    "\n",
    "其中，--color=auto 表示让 grep 命令自动选择是否使用颜色。如果该选项设置为 always，则总是会使用颜色高亮显示匹配到的文本，如果设置为 never，则永远不会使用颜色高亮显示匹配到的文本。\"pattern\" 表示要匹配的模式，filename 表示要匹配的文件名。"
   ]
  },
  {
   "cell_type": "code",
   "execution_count": 44,
   "id": "be52d168-4df4-4a1b-a8de-f29843846668",
   "metadata": {},
   "outputs": [
    {
     "name": "stdout",
     "output_type": "stream",
     "text": [
      "helloworld\n",
      "hello world\n"
     ]
    }
   ],
   "source": [
    "# 终端执行\n",
    "!grep --color=auto \"hello\" example.txt"
   ]
  },
  {
   "cell_type": "markdown",
   "id": "32159203-c6e7-4824-a36a-5f23491e4ca7",
   "metadata": {},
   "source": [
    "grep是一个非常有用的命令行工具，它在文本文件中搜索特定的文本模式，并将匹配的行打印出来"
   ]
  },
  {
   "cell_type": "code",
   "execution_count": null,
   "id": "97e7757e-f653-4c2d-ac7e-62ce0aaaf3f5",
   "metadata": {},
   "outputs": [],
   "source": []
  },
  {
   "cell_type": "code",
   "execution_count": null,
   "id": "1996c4ef-ddb9-492d-a3a5-b286e8a6bd64",
   "metadata": {},
   "outputs": [],
   "source": []
  },
  {
   "cell_type": "code",
   "execution_count": null,
   "id": "9fd05011-dbb9-400d-9da0-53d71fbbf6a3",
   "metadata": {},
   "outputs": [],
   "source": []
  },
  {
   "cell_type": "markdown",
   "id": "1eb1e81c-118f-419f-85ec-3406e42da955",
   "metadata": {},
   "source": [
    "# sed\n",
    "\n",
    "sed是一款非交互式的文本编辑器，其名字来源于“stream editor”，意为流编辑器。\n",
    "\n",
    "主要用于对文本进行处理和替换。它可以从文件、管道或者标准输入中读取文本，并对其进行修改后输出到屏幕或者文件中。"
   ]
  },
  {
   "cell_type": "markdown",
   "id": "f8f8ca4c-d312-4b49-a402-977637cdd878",
   "metadata": {},
   "source": [
    "在 sed 中，有一个叫做“模式空间”的概念，它是一个缓冲区，用于存储从输入流中读取的一行数据。sed 命令可以通过命令行选项或脚本语法向模式空间中添加内容，并对其进行处理。\n",
    "\n",
    "在处理完模式空间中的内容后，sed 会将结果输出到标准输出中，而原始的输入流则不会被修改。\n",
    "\n",
    "模式空间中的内容可以使用 sed 命令进行替换、删除、插入、追加等操作，从而实现对文本的编辑。\n",
    "\n",
    "使用 sed 命令进行文本编辑的一般步骤如下：\n",
    "\n",
    "1. 从输入流中读取一行文本到模式空间中；\n",
    "2. 使用 sed 命令对模式空间中的文本进行处理；\n",
    "3. 将处理后的结果输出到标准输出中；\n",
    "4. 重复以上步骤，直到读取到输入流的最后一行。"
   ]
  },
  {
   "cell_type": "markdown",
   "id": "a64f9160-1b76-4b80-bfec-fb2fd902e573",
   "metadata": {
    "tags": []
   },
   "source": [
    "### 基本用法\n",
    "\n",
    "`sed [options] 'command' file(s)`\n",
    "\n",
    "其中 command 是要执行的命令，可以是单个命令或者多个命令组成的脚本。 file(s) 表示要处理的文件名或者使用管道符号 | 从前一个命令中读取输入。\n",
    "\n",
    "常用的选项包括：\n",
    "\n",
    "- -n：禁止自动打印模式空间，只有通过p命令显式打印模式空间中的内容。\n",
    "- -e：指定sed编辑命令。可以通过-e选项多次指定多个编辑命令，或者将所有命令写在一个脚本文件中。\n",
    "- -f：指定sed编辑命令所在的脚本文件。\n",
    "- -r：使用扩展正则表达式。\n",
    "- -i：直接修改文件内容，而不是输出到标准输出。\n",
    "- -s：将文件视为单一长行，而不是多行。\n",
    "- -u：使用不缓存的输出。\n",
    "- -z：将输入文件视为NUL分隔的字符串列表，而不是多行。\n",
    "- -b：处理二进制文件。\n",
    "- -w：在写入时将文件锁定，以防止其他进程修改文件。\n",
    "- -c：编辑命令执行完毕后，将结果输出到标准输出并退出。\n",
    "- -q：退出sed编辑器。\n",
    "- -V：显示sed的版本号。\n",
    "\n",
    "常用的command操作包括：\n",
    "\n",
    "- p：打印模式空间中的内容；\n",
    "- d：删除模式空间中的内容；\n",
    "- s：替换模式空间中的内容；\n",
    "- a：用于在模式空间中某一行的后面追加文本；\n",
    "- i: 用于在模式空间中某一行的前面插入文本；\n",
    "- g: 全局替换。"
   ]
  },
  {
   "cell_type": "markdown",
   "id": "83034461-d776-4474-8ca8-06fe714a7c99",
   "metadata": {},
   "source": [
    "**替换字符串**\n",
    "\n",
    "使用 s 命令可以在文本中替换指定字符串。\n",
    "\n",
    "`sed 's/原字符串/新字符串/' filename`"
   ]
  },
  {
   "cell_type": "code",
   "execution_count": 62,
   "id": "d9bcb627-0dd3-4f2c-9b86-83a8ada9d8c4",
   "metadata": {},
   "outputs": [
    {
     "name": "stdout",
     "output_type": "stream",
     "text": [
      "Hello, World\n",
      "hiworld\n",
      "hi world\n",
      "hi\n",
      "error\n",
      "!\n",
      "!!!\n",
      "!!!!!\n"
     ]
    }
   ],
   "source": [
    "# 将文件中所有的 hello 替换成 hi，\n",
    "!sed 's/hello/hi/' example.txt"
   ]
  },
  {
   "cell_type": "markdown",
   "id": "d7592b9b-a570-4230-b59c-fa1001574714",
   "metadata": {},
   "source": [
    "**替换特定行**"
   ]
  },
  {
   "cell_type": "code",
   "execution_count": 63,
   "id": "99364ff1-c2b4-4481-ad29-fa4a2d78014b",
   "metadata": {},
   "outputs": [
    {
     "name": "stdout",
     "output_type": "stream",
     "text": [
      "Hello, World\n",
      "helloworld\n",
      "hello world\n",
      "hi\n",
      "error\n",
      "!\n",
      "!!!\n",
      "!!!!!\n"
     ]
    }
   ],
   "source": [
    "# 将第5行的 hello 替换成 hi，\n",
    "!sed '5s/hello/hi/' example.txt"
   ]
  },
  {
   "cell_type": "markdown",
   "id": "22f77356-eca9-4cf3-b326-7893301d1cac",
   "metadata": {},
   "source": [
    "**删除特定行**"
   ]
  },
  {
   "cell_type": "code",
   "execution_count": 45,
   "id": "7abad904-4f20-410e-bb4c-ea7d9a29d63d",
   "metadata": {},
   "outputs": [
    {
     "name": "stdout",
     "output_type": "stream",
     "text": [
      "Hello, World\n",
      "helloworld\n",
      "hello world\n",
      "error\n",
      "!\n",
      "!!!\n",
      "!!!!!\n"
     ]
    }
   ],
   "source": [
    "# , 4表示要删除的行号，d表示删除操作。\n",
    "!sed '4d' example.txt"
   ]
  },
  {
   "cell_type": "code",
   "execution_count": 47,
   "id": "94eac15c-1fce-414c-96a5-6b97f4dcb8d1",
   "metadata": {},
   "outputs": [
    {
     "name": "stdout",
     "output_type": "stream",
     "text": [
      "Hello, World\n",
      "hi\n",
      "error\n",
      "!\n",
      "!!!\n",
      "!!!!!\n"
     ]
    }
   ],
   "source": [
    "# 删除匹配hello的行\n",
    "!sed '/hello/d' example.txt"
   ]
  },
  {
   "cell_type": "markdown",
   "id": "eb2d6abe-29e2-47ba-96cc-8606206a4998",
   "metadata": {},
   "source": [
    "将第 2 行到第 4 行的文本中的“old_text”替换为“new_text”:\n",
    "\n",
    "`sed '2,4 s/old_text/new_text/g' file.txt`"
   ]
  },
  {
   "cell_type": "markdown",
   "id": "a86543c7-bfcb-4fab-b560-7a7b881a88d8",
   "metadata": {},
   "source": [
    "使用 sed 命令可以指定模式来匹配行，然后替换该行中的指定文本。\n",
    "将所有包含“old_text”的行中的“old_text”替换为“new_text”\n",
    "\n",
    "`sed '/old_text/ s/old_text/new_text/g' file.txt`"
   ]
  },
  {
   "cell_type": "markdown",
   "id": "aac8ad92-28b4-4076-b07d-c3bda6f98a08",
   "metadata": {},
   "source": [
    "使用 sed 命令可以指定行范围来删除指定文本。下面的命令可以删除第 2 行到第 4 行的文本中的“old_text”\n",
    "\n",
    "`sed '2,4 s/old_text//g' file.txt`"
   ]
  },
  {
   "cell_type": "markdown",
   "id": "34beeda6-a580-403d-b74b-9029279dc142",
   "metadata": {},
   "source": [
    "删除所有包含“old_text”的行中的“old_text”：\n",
    "\n",
    "`sed '/old_text/ s/old_text//g' file.txt`"
   ]
  },
  {
   "cell_type": "markdown",
   "id": "e3deab74-ea7e-44a9-a97c-1a780d543605",
   "metadata": {},
   "source": [
    "**插入和追加文本**"
   ]
  },
  {
   "cell_type": "code",
   "execution_count": 50,
   "id": "612b5142-ce53-403b-9370-31c205e4d93e",
   "metadata": {},
   "outputs": [
    {
     "name": "stdout",
     "output_type": "stream",
     "text": [
      "Hello, World\n",
      "helloworld\n",
      "hello world\n",
      "hi\n",
      "add_text\n",
      "error\n",
      "!\n",
      "!!!\n",
      "!!!!!\n"
     ]
    }
   ],
   "source": [
    "# 添加行， 第四行添加txt, a是添加\n",
    "!sed '4 a add_text' example.txt"
   ]
  },
  {
   "cell_type": "code",
   "execution_count": 51,
   "id": "ca83727c-ba90-4c40-9ad0-9f1d62a59ed4",
   "metadata": {},
   "outputs": [
    {
     "name": "stdout",
     "output_type": "stream",
     "text": [
      "Hello, World\n",
      "helloworld\n",
      "hello world\n",
      "add_text\n",
      "hi\n",
      "error\n",
      "!\n",
      "!!!\n",
      "!!!!!\n"
     ]
    }
   ],
   "source": [
    "# 第四行前面添加txt\n",
    "!sed '4 i add_text' example.txt"
   ]
  },
  {
   "cell_type": "code",
   "execution_count": 59,
   "id": "4366f210-05c0-44b3-acb7-631afd4733d0",
   "metadata": {},
   "outputs": [
    {
     "name": "stdout",
     "output_type": "stream",
     "text": [
      "Hello, World\n",
      "helloworld\n",
      "nihao\n",
      "hello world\n",
      "nihao\n",
      "hi\n",
      "error\n",
      "!\n",
      "!!!\n",
      "!!!!!\n"
     ]
    }
   ],
   "source": [
    "# 将文件中所有包含\"hello\"的行后追加\"nihao\"：\n",
    "!sed '/hello/a\\nihao' example.txt"
   ]
  },
  {
   "cell_type": "code",
   "execution_count": 60,
   "id": "7f17281a-788c-4724-b7c5-0a5298a4da96",
   "metadata": {},
   "outputs": [
    {
     "name": "stdout",
     "output_type": "stream",
     "text": [
      "Hello, World\n",
      "nihao\n",
      "helloworld\n",
      "nihao\n",
      "hello world\n",
      "hi\n",
      "error\n",
      "!\n",
      "!!!\n",
      "!!!!!\n"
     ]
    }
   ],
   "source": [
    "# 将文件中所有包含\"hello\"的行前插入\"nihao\"：\n",
    "!sed '/hello/i\\nihao' example.txt"
   ]
  },
  {
   "cell_type": "code",
   "execution_count": 67,
   "id": "ded58b95-bbe7-4bb2-a1be-d198a13aea78",
   "metadata": {},
   "outputs": [
    {
     "name": "stdout",
     "output_type": "stream",
     "text": [
      "Hello, World\n",
      "new_text\n",
      "hello world\n",
      "hi\n",
      "error\n",
      "!\n",
      "!!!\n",
      "!!!!!\n"
     ]
    }
   ],
   "source": [
    "# 替换第 2 行的文本为“new_text”\n",
    "!sed '2 c\\new_text' example.txt"
   ]
  },
  {
   "cell_type": "code",
   "execution_count": 58,
   "id": "6ec6ba42-ba80-4a65-854e-1bba275b8f5f",
   "metadata": {},
   "outputs": [
    {
     "name": "stdout",
     "output_type": "stream",
     "text": [
      "helloworld\n"
     ]
    }
   ],
   "source": [
    "# 打印某行\n",
    "!sed -n '2 p' example.txt"
   ]
  },
  {
   "cell_type": "code",
   "execution_count": 57,
   "id": "662c9c8d-886d-4d30-8b80-7d39da30c19f",
   "metadata": {
    "collapsed": true,
    "jupyter": {
     "outputs_hidden": true
    },
    "tags": []
   },
   "outputs": [
    {
     "name": "stdout",
     "output_type": "stream",
     "text": [
      "Hello, World\n",
      "Hello, World\n",
      "helloworld\n",
      "helloworld\n",
      "hello world\n",
      "hello world\n",
      "hi\n",
      "hi\n",
      "error\n",
      "error\n",
      "!\n",
      "!\n",
      "!!!\n",
      "!!!\n",
      "!!!!!\n",
      "!!!!!\n"
     ]
    }
   ],
   "source": [
    "!sed 'p' example.txt"
   ]
  },
  {
   "cell_type": "markdown",
   "id": "ab96119a-4155-4894-ab6b-ac212eb1e3ba",
   "metadata": {},
   "source": [
    "**转换文本**\n",
    "\n",
    "使用 sed 命令可以进行文本转换，例如大小写转换、空格压缩等。"
   ]
  },
  {
   "cell_type": "code",
   "execution_count": 70,
   "id": "177bc39a-12fb-4e9c-82d4-6ffe2253c660",
   "metadata": {},
   "outputs": [
    {
     "name": "stderr",
     "output_type": "stream",
     "text": [
      "sed: -e expression #1, char 10: unterminated `s' command\n",
      "'/g'' is not recognized as an internal or external command,\n",
      "operable program or batch file.\n"
     ]
    }
   ],
   "source": [
    "# 将文本中的所有大写字母转换为小写字母：\n",
    "!sed 's/[A-Z]/\\L&/g' example.txt"
   ]
  },
  {
   "cell_type": "code",
   "execution_count": 72,
   "id": "074e005b-8077-42c8-8481-07aef7599bd1",
   "metadata": {
    "collapsed": true,
    "jupyter": {
     "outputs_hidden": true
    },
    "tags": []
   },
   "outputs": [
    {
     "name": "stdout",
     "output_type": "stream",
     "text": [
      "1\n",
      "Hello, World\n",
      "2\n",
      "helloworld\n",
      "3\n",
      "hello world\n",
      "4\n",
      "hi\n",
      "5\n",
      "error\n",
      "6\n",
      "!\n",
      "7\n",
      "!!!\n",
      "8\n",
      "!!!!!\n"
     ]
    }
   ],
   "source": [
    "# 输出行号\n",
    "!sed = example.txt"
   ]
  },
  {
   "cell_type": "markdown",
   "id": "e4374f0d-19e7-4442-9d64-1d378246f662",
   "metadata": {},
   "source": [
    "在 sed 中，我们可以使用分号 ; 将多个命令组合在一起，使得 sed 可以执行多个命令来处理输入文本。"
   ]
  },
  {
   "cell_type": "code",
   "execution_count": 73,
   "id": "608b657b-40b7-47d9-ab77-d2c79bd1d451",
   "metadata": {},
   "outputs": [
    {
     "name": "stdout",
     "output_type": "stream",
     "text": [
      "1\tHello, World\n",
      "2\thelloworld\n",
      "3\thello world\n",
      "4\thi\n",
      "5\terror\n",
      "6\t!\n",
      "7\t!!!\n",
      "8\t!!!!!\n"
     ]
    }
   ],
   "source": [
    "!sed = example.txt | sed 'N;s/\\n/\\t/'"
   ]
  },
  {
   "cell_type": "markdown",
   "id": "8542e90c-295e-4ab2-b363-38196c88df50",
   "metadata": {},
   "source": [
    "sed = example.txt 输出文件的每一行的行号。\n",
    "\n",
    "sed 'N;s/\\n/\\t/' 将每一行的行号和文本内容放在同一行，并将行号和文本内容之间的换行符替换为制表符。"
   ]
  },
  {
   "cell_type": "markdown",
   "id": "1a1024ef-5aaf-4f0c-a4ff-0272a3d4b8de",
   "metadata": {},
   "source": [
    "**执行脚本**\n",
    "\n",
    "`sed -f script.sed filename`\n",
    "\n",
    " -f 参数可以从文件中读取 sed 命令，这样可以方便地执行多条命令。将多条命令存储在一个文件中，然后执行该文件，"
   ]
  },
  {
   "cell_type": "markdown",
   "id": "d73200e3-e29d-4328-8738-39fbd774c024",
   "metadata": {},
   "source": [
    "**sed 多行编辑**\n",
    "\n",
    "N 命令：将下一行的内容添加到模式空间中，并用一个换行符隔开两行内容。可以在模式空间中使用正则表达式来匹配多行内容，并进行操作。"
   ]
  },
  {
   "cell_type": "code",
   "execution_count": 76,
   "id": "ffc755ce-adf0-4844-a52a-19210da978b8",
   "metadata": {},
   "outputs": [
    {
     "name": "stdout",
     "output_type": "stream",
     "text": [
      "apple,banana\n",
      "orange,grape\n"
     ]
    }
   ],
   "source": [
    "# 使用 N 命令将 两行内容连接在一起，并用逗号分隔\n",
    "!sed 'N;s/\\n/,/' test.txt"
   ]
  },
  {
   "cell_type": "markdown",
   "id": "0d8a6ead-9339-4413-89dd-d2bef9e4f8e2",
   "metadata": {},
   "source": [
    "N 命令将下一行的内容添加到模式空间中，形成了两行内容，并用一个换行符隔开。接着使用 s 命令将两行之间的换行符替换成逗号。"
   ]
  },
  {
   "cell_type": "markdown",
   "id": "4e398139-eee7-48bc-9119-f08a1c25e2d4",
   "metadata": {},
   "source": [
    "圆括号命令：\n",
    "\n",
    "圆括号命令可以用于分组多个命令，并对这些命令一起操作模式空间。\n",
    "\n",
    "例如，要将一个文件中的每一行的前两个单词颠倒顺序："
   ]
  },
  {
   "cell_type": "code",
   "execution_count": 80,
   "id": "d9bd9099-001f-4b9b-9133-a94569f42bff",
   "metadata": {},
   "outputs": [
    {
     "name": "stdout",
     "output_type": "stream",
     "text": [
      "Hello, World\n",
      "orld hellow\n",
      "world hello\n",
      "error hi\n",
      "!\n",
      "!!!\n",
      "!!!!!\n"
     ]
    }
   ],
   "source": [
    "!sed -E 's/^(\\w+) (\\w+)/\\2 \\1/' example.txt"
   ]
  },
  {
   "cell_type": "markdown",
   "id": "25c6f1a0-7ea9-4760-ac82-5b839975a555",
   "metadata": {},
   "source": [
    "s/ 是sed的替换命令。\n",
    "\n",
    "^(\\w+) (\\w+)/ 是正则表达式，括号表示捕获组。这里第一个括号匹配一个或多个单词字符（即字母、数字或下划线），后面跟着一个空格，第二个括号匹配另一个或多个单词字符。\n",
    "\n",
    "/\\2 \\1/ 是替换的内容，\\2表示第二个捕获组，\\1表示第一个捕获组，两者之间用空格隔开。这样就实现了将第一个单词和第二个单词位置互换的效果。"
   ]
  },
  {
   "cell_type": "markdown",
   "id": "ca4a020d-09e7-4cf2-b924-282f772b641a",
   "metadata": {},
   "source": [
    "**分号命令**\n",
    "\n",
    "分号命令可以用于在一行中组合多个命令。\n",
    "\n",
    "例如，要将一个文件中所有的大写字母转换为小写字母，并将每个单词的首字母大写，可以使用如下命令："
   ]
  },
  {
   "cell_type": "code",
   "execution_count": 81,
   "id": "ac3c8260-3905-4b2c-9bd0-8ad869df8aa3",
   "metadata": {},
   "outputs": [
    {
     "name": "stderr",
     "output_type": "stream",
     "text": [
      "sed: -e expression #1, char 10: unterminated `s' command\n",
      "'/g' is not recognized as an internal or external command,\n",
      "operable program or batch file.\n",
      "'/g'' is not recognized as an internal or external command,\n",
      "operable program or batch file.\n"
     ]
    }
   ],
   "source": [
    "!sed 's/[A-Z]/\\L&/g;s/\\b\\w/\\u&/g' example.txt"
   ]
  },
  {
   "cell_type": "markdown",
   "id": "bec0307f-8ed6-40d2-8969-c30c293c5ada",
   "metadata": {},
   "source": [
    "这条 sed 命令将会对 example.txt 文件中的每一行进行两个替换操作：\n",
    "\n",
    "第一个替换操作使用正则表达式 [A-Z] 匹配大写字母，然后将匹配到的字符转换为小写字母 \\L&，其中 \\L 表示将后面的字符全部转换为小写，& 表示被匹配到的字符本身。最后使用 g 表示全局匹配。\n",
    "\n",
    "第二个替换操作使用正则表达式 \\b\\w 匹配单词的第一个字母，然后将匹配到的字符转换为大写字母 \\u&，其中 \\u 表示将后面的字符全部转换为大写，& 表示被匹配到的字符本身。同样使用 g 表示全局匹配。"
   ]
  },
  {
   "cell_type": "markdown",
   "id": "798e6be5-8b42-4f48-b8f9-c5bf65445c95",
   "metadata": {},
   "source": [
    "Sed 命令是一种文本处理工具，能够快速地对文件或者数据流中的文本进行增删改查等操作。它的基本用法是通过模式匹配来定位和编辑文本。"
   ]
  },
  {
   "cell_type": "markdown",
   "id": "f45b2404-27bb-4c8e-921e-3a94c63e0a20",
   "metadata": {},
   "source": [
    "Sed 命令还支持各种高级用法，如多行编辑、使用内置变量和函数、组合多个命令等。\n",
    "\n",
    "Sed 命令有其局限性，不适用于复杂的数据处理和分析任务。"
   ]
  },
  {
   "cell_type": "code",
   "execution_count": null,
   "id": "5a3cd221-18d2-43da-8078-a30e7e9650ed",
   "metadata": {},
   "outputs": [],
   "source": []
  },
  {
   "cell_type": "code",
   "execution_count": null,
   "id": "49d3fa9c-b8c7-4965-8f2c-50d20044a110",
   "metadata": {},
   "outputs": [],
   "source": []
  },
  {
   "cell_type": "code",
   "execution_count": null,
   "id": "4f756de6-a12f-4753-8050-ec95f840abeb",
   "metadata": {},
   "outputs": [],
   "source": []
  },
  {
   "cell_type": "markdown",
   "id": "db615983-c830-4c4f-bbf7-baaaf84cb2bd",
   "metadata": {},
   "source": [
    "# AWK"
   ]
  },
  {
   "cell_type": "markdown",
   "id": "1fd22a63-2e9e-4e7a-8676-9c3b6fd88e08",
   "metadata": {},
   "source": [
    "awk 是一种强大的文本处理工具，它可以对文本文件进行格式化输出、搜索、过滤、数据统计等操作。awk 是一种完整的程序设计语言，它具有变量、数组、控制语句等功能，可以对文件进行高级处理。"
   ]
  },
  {
   "cell_type": "markdown",
   "id": "2aff9d5f-11c1-4c63-871f-1009149803b4",
   "metadata": {},
   "source": [
    "`awk [options] 'pattern {action}' [file ...]`\n",
    "\n",
    "pattern 用于匹配文本，action 用于对匹配到的文本执行操作。如果不指定文件名，则 awk 默认从标准输入读取数据。"
   ]
  },
  {
   "cell_type": "markdown",
   "id": "31344cc8-4f98-4ab7-96a9-d03af7e330ca",
   "metadata": {},
   "source": [
    "## 基本用法"
   ]
  },
  {
   "cell_type": "markdown",
   "id": "fdb17db1-7795-4b5e-ace5-910cc9c6086d",
   "metadata": {},
   "source": [
    "- -F：指定字段分隔符，默认为单个空格。例如 -F: 指定冒号为空格作为字段分隔符。\n",
    "- -v var=value：定义变量并赋值。例如 -v x=10 定义一个变量 x 并将其值设置为 10。\n",
    "- -f file：指定 awk 命令的脚本文件，可以用来执行比较复杂的操作。\n",
    "- -W keyword：指定关键字，可以用来控制如何处理特定语言环境的字符。例如 -Wposix 可以启用 POSIX 标准兼容的行为。\n",
    "\n",
    "- -v RS=regex：指定输入的记录分隔符，可以使用正则表达式。默认情况下，记录分隔符为换行符。\n",
    "- -v ORS=str：指定输出的记录分隔符。默认情况下，记录分隔符为换行符。\n",
    "- -v OFS=str：指定输出字段的分隔符。默认情况下，输出字段分隔符为单个空格。\n",
    "- -v CONVFMT=format：指定数字转换为字符串时使用的格式。"
   ]
  },
  {
   "cell_type": "markdown",
   "id": "50aad68f-20a4-45ee-94f6-60c37c6f69c7",
   "metadata": {},
   "source": [
    "**内置变量**"
   ]
  },
  {
   "cell_type": "markdown",
   "id": "e396419e-0f20-4e17-b3f3-a2110620bedb",
   "metadata": {},
   "source": [
    "一些常用的 awk 内置变量：\n",
    "\n",
    "- NR：表示 awk 处理的当前行数，从 1 开始计数。\n",
    "- NF：表示 awk 处理的当前行的字段数量，即列数。\n",
    "- `$0`：表示 awk 处理的当前行的所有内容，相当于整行文本。\n",
    "- `$1`：表示 awk 处理的当前行的第一个字段内容。\n",
    "- `$2`：表示 awk 处理的当前行的第二个字段内容，依此类推。\n",
    "- FS：表示 awk 输入字段分隔符，默认为“空格”、“制表符”、“换行符”中的任意一个。\n",
    "- RS：表示 awk 输入记录分隔符，默认为“换行符”。\n",
    "- OFS：表示 awk 输出字段分隔符，默认为“空格”。\n",
    "- ORS：表示 awk 输出记录分隔符，默认为“换行符”。\n",
    "\n",
    "使用内置变量可以使得 awk 处理数据更加灵活和高效。\n",
    "\n",
    "例如，可以使用 NR 变量对数据进行分段处理，使用 NF 变量对数据进行筛选和提取，使用 FS 和 OFS 变量对数据进行分割和输出等。"
   ]
  },
  {
   "cell_type": "markdown",
   "id": "1c2ed9a5-021b-4166-adc9-8fcb3ff1cfa0",
   "metadata": {},
   "source": [
    "打印文件某一列"
   ]
  },
  {
   "cell_type": "code",
   "execution_count": 110,
   "id": "395d3859-b5d4-4077-8189-9eff8bcca773",
   "metadata": {},
   "outputs": [
    {
     "name": "stdout",
     "output_type": "stream",
     "text": [
      "22\n",
      "34\n",
      "28\n",
      "47\n"
     ]
    }
   ],
   "source": [
    "!awk '{print $2}' test.txt"
   ]
  },
  {
   "cell_type": "markdown",
   "id": "bae9157d-bbc7-4019-807c-cdbb48f048c8",
   "metadata": {},
   "source": [
    "按条件筛选行"
   ]
  },
  {
   "cell_type": "code",
   "execution_count": 111,
   "id": "45c78490-3b08-4a7f-9372-2e290f884880",
   "metadata": {},
   "outputs": [
    {
     "name": "stderr",
     "output_type": "stream",
     "text": [
      "The system cannot find the file specified.\n"
     ]
    }
   ],
   "source": [
    "# 打印第二列是80的行\n",
    "!awk '$2==28 {print}' test.txt"
   ]
  },
  {
   "cell_type": "code",
   "execution_count": 98,
   "id": "8cf3eef9-04ab-4fbf-8fef-6c83c829357f",
   "metadata": {},
   "outputs": [
    {
     "name": "stdout",
     "output_type": "stream",
     "text": [
      "189\n"
     ]
    }
   ],
   "source": [
    "# 计算第二列的和\n",
    "!awk '{sum+=$2} END {print sum}' test.txt"
   ]
  },
  {
   "cell_type": "code",
   "execution_count": 99,
   "id": "629fd828-d685-45f8-b3cb-6679ce67bb3a",
   "metadata": {},
   "outputs": [
    {
     "name": "stderr",
     "output_type": "stream",
     "text": [
      "The system cannot find the file specified.\n"
     ]
    }
   ],
   "source": [
    "# 打印文件中包含字母 b 的行\n",
    "!awk '/b/ {print}' test.txt"
   ]
  },
  {
   "cell_type": "code",
   "execution_count": 129,
   "id": "529b27ae-e1b0-40b4-b25b-1461470c4957",
   "metadata": {},
   "outputs": [
    {
     "name": "stdout",
     "output_type": "stream",
     "text": [
      "Hello\n",
      "hellow orld\n",
      "hello world\n",
      "hi error\n",
      "!\n",
      "!!!\n",
      "!!!!!\n",
      "hi\n"
     ]
    }
   ],
   "source": [
    "# 使用 -F 选项指定分隔符, 可以用来处理表格文件\n",
    "!awk -F',' '{print $1}' example.txt"
   ]
  },
  {
   "cell_type": "code",
   "execution_count": 131,
   "id": "761d491e-1a1a-49a3-9482-cf3abfb030f6",
   "metadata": {},
   "outputs": [
    {
     "name": "stdout",
     "output_type": "stream",
     "text": [
      "Name       Age \n",
      "John       20  \n",
      "Mary       22  \n",
      "Tom        19  \n",
      "Alice      21  \n"
     ]
    }
   ],
   "source": [
    "# 可以使用 print 和 printf 命令打印输出结果。在这个例子中，使用 printf 命令格式化输出。\n",
    "!awk '{printf \"%-10s %-4s\\n\", $1, $2}' test.txt"
   ]
  },
  {
   "cell_type": "code",
   "execution_count": null,
   "id": "16c7ecaa-6537-490c-9da3-a82deb672198",
   "metadata": {},
   "outputs": [],
   "source": []
  },
  {
   "cell_type": "code",
   "execution_count": 103,
   "id": "18ed4c96-b6f9-4c30-851e-c5cb0d5f821c",
   "metadata": {},
   "outputs": [
    {
     "name": "stderr",
     "output_type": "stream",
     "text": [
      "The system cannot find the file specified.\n"
     ]
    }
   ],
   "source": [
    "# 使用模式匹配，打印以 a 开头的行：\n",
    "!awk '/^a/ {print}' test.txt"
   ]
  },
  {
   "cell_type": "code",
   "execution_count": 130,
   "id": "a04f99b5-542d-4eb2-ac63-3a68fae59ecc",
   "metadata": {},
   "outputs": [
    {
     "name": "stdout",
     "output_type": "stream",
     "text": [
      "Age Name\n",
      "19 Tom\n",
      "20 John\n",
      "21 Alice\n",
      "22 Mary\n"
     ]
    }
   ],
   "source": [
    "# 按照年龄从小到大的顺序输出这些人的名字和年龄\n",
    "!awk '{print $2, $1}' test.txt | sort -n"
   ]
  },
  {
   "cell_type": "markdown",
   "id": "30224947-acc6-4334-895b-ce8770d9946c",
   "metadata": {},
   "source": [
    "其中，{print $2, $1}表示输出第二列和第一列的内容，用空格分隔；|表示管道符，将输出结果传递给sort命令；sort -n表示按照数值大小进行排序。"
   ]
  },
  {
   "cell_type": "code",
   "execution_count": 120,
   "id": "d6492934-f67d-48b4-b749-39b96db93b4a",
   "metadata": {},
   "outputs": [],
   "source": [
    "!awk -v age=30 '$2 > age {print $1, $2}' test.txt"
   ]
  },
  {
   "cell_type": "code",
   "execution_count": null,
   "id": "50f875fa-e0f4-4159-aff2-c0d8e3c5bff5",
   "metadata": {},
   "outputs": [],
   "source": [
    "使用了 -v 选项来定义一个变量 age，并将其赋值为 30。\n",
    "读取名为 test.txt 的文件，对于每一行，如果第2列的值大于 age，就输出该行的第1列和第2列，使用空格分隔。"
   ]
  },
  {
   "cell_type": "markdown",
   "id": "af29ecde-e807-4a59-97fc-572b0ff662d2",
   "metadata": {},
   "source": [
    "**变量**\n",
    "\n",
    "在 awk 中，可以使用变量存储值。变量名可以是任何合法的标识符，变量的值可以是数字、字符串或数组。\n",
    "\n",
    "打印文件中第二列的平均值"
   ]
  },
  {
   "cell_type": "code",
   "execution_count": 104,
   "id": "aeaa39c7-c528-4e87-b5ed-efacff8d22ed",
   "metadata": {},
   "outputs": [
    {
     "name": "stdout",
     "output_type": "stream",
     "text": [
      "47.25\n"
     ]
    }
   ],
   "source": [
    "!awk '{sum+=$2; count++} END {print sum/count}' test.txt"
   ]
  },
  {
   "cell_type": "code",
   "execution_count": 127,
   "id": "b63340a4-8145-48dc-9867-270d12fd7a3a",
   "metadata": {},
   "outputs": [
    {
     "name": "stderr",
     "output_type": "stream",
     "text": [
      "The system cannot find the file specified.\n"
     ]
    }
   ],
   "source": [
    "# 处理前两个\n",
    "!awk 'NR <= 2 {print $1, $2}' test.txt"
   ]
  },
  {
   "cell_type": "code",
   "execution_count": null,
   "id": "2bd72613-0dc8-4355-bbb1-7eb9c5355fbd",
   "metadata": {},
   "outputs": [],
   "source": []
  },
  {
   "cell_type": "markdown",
   "id": "789d4941-36a2-4db4-a524-ca024e8de8a7",
   "metadata": {},
   "source": [
    "**控制流语句**\n",
    "\n",
    "awk 支持 if 语句、while 语句、for 语句等控制流语句。\n",
    "\n",
    "打印文件中第二列大于 50 的行："
   ]
  },
  {
   "cell_type": "code",
   "execution_count": 107,
   "id": "3eb67e3f-5ed7-4ced-8fd7-40cad0a5e6ec",
   "metadata": {},
   "outputs": [
    {
     "name": "stderr",
     "output_type": "stream",
     "text": [
      "awk: cmd. line:1: {if ($2 print}\n",
      "awk: cmd. line:1:         ^ syntax error\n"
     ]
    }
   ],
   "source": [
    "!awk '{if ($2>50) print}' test.txt"
   ]
  },
  {
   "cell_type": "code",
   "execution_count": 122,
   "id": "e4e3e0c5-5eb4-464f-904c-e1bc2289da3e",
   "metadata": {},
   "outputs": [
    {
     "name": "stderr",
     "output_type": "stream",
     "text": [
      "awk: cmd. line:1: {if ($2  print $1\" old\"; else print $1\" young\"}\n",
      "awk: cmd. line:1:          ^ syntax error\n",
      "awk: cmd. line:1: {if ($2  print $1\" old\"; else print $1\" young\"}\n",
      "awk: cmd. line:1:                          ^ syntax error\n"
     ]
    }
   ],
   "source": [
    "!awk '{if ($4 > 80) print $1\" A\"; else print $1\" B\"}' test.txt"
   ]
  },
  {
   "cell_type": "code",
   "execution_count": 123,
   "id": "6b08ce60-cd21-47f8-8da9-6bf44ba17303",
   "metadata": {},
   "outputs": [
    {
     "name": "stdout",
     "output_type": "stream",
     "text": [
      "4\n"
     ]
    }
   ],
   "source": [
    "# 输出文件的行数\n",
    "!awk 'END {print NR}' test.txt"
   ]
  },
  {
   "cell_type": "markdown",
   "id": "8fe7e9f5-ebc5-444d-9ffa-d537d78a0976",
   "metadata": {},
   "source": [
    "**数组**\n",
    "\n",
    "在 awk 中，可以使用数组来存储数据。数组名可以是任何合法的标识符，数组元素可以是数字、字符串或其他数组。\n",
    "\n",
    "打印文件中每个单词出现的次数："
   ]
  },
  {
   "cell_type": "code",
   "execution_count": 109,
   "id": "717b7154-498e-473f-a75d-5a87d2c5e9a7",
   "metadata": {},
   "outputs": [
    {
     "name": "stderr",
     "output_type": "stream",
     "text": [
      "The system cannot find the file specified.\n"
     ]
    }
   ],
   "source": [
    "!awk '{for (i=1; i<=NF; i++) count[$i]++} END {for (i in count) print i, count[i]}' example.txt"
   ]
  },
  {
   "cell_type": "markdown",
   "id": "f630c23c-732a-400f-9fba-5e6e064933d1",
   "metadata": {},
   "source": [
    "**函数**\n",
    "\n",
    "awk中可以定义自己的函数，以便重复使用一些代码。函数定义以function开始，以end结尾。"
   ]
  },
  {
   "cell_type": "code",
   "execution_count": 124,
   "id": "1f08562e-69cf-408b-849c-335522f3b3d6",
   "metadata": {},
   "outputs": [
    {
     "name": "stdout",
     "output_type": "stream",
     "text": [
      "Hello, World\n",
      "Hellow orld\n",
      "Hello world\n",
      "Hi error\n",
      "! \n",
      "!!! \n",
      "!!!!! \n",
      "Hi \n"
     ]
    }
   ],
   "source": [
    "# 将字符串的第一个字符转换为大写字母\n",
    "!awk 'function uc(s) {return toupper(substr(s, 1, 1)) substr(s, 2)} {print uc($1), $2}' example.txt"
   ]
  },
  {
   "cell_type": "markdown",
   "id": "41a426ba-0928-4a5b-9118-49e031db17f8",
   "metadata": {},
   "source": [
    "在 awk 中，BEGIN 和 END 是两个特殊的模式，它们并不对应于输入文件的行，而是在 awk 程序执行前和执行后被执行一次，用于在处理输入之前进行一些初始化工作，或者在处理完输入后输出一些总结信息。\n",
    "\n",
    "BEGIN 和 END 模式必须以特殊标识符 BEGIN 和 END 开始，然后跟着一个动作代码块。BEGIN 动作代码块在处理输入之前执行一次，而 END 动作代码块在处理完输入后执行一次。"
   ]
  },
  {
   "cell_type": "code",
   "execution_count": 138,
   "id": "2d534c3d-f93d-4d77-9814-ec4e37365f4c",
   "metadata": {},
   "outputs": [
    {
     "name": "stdout",
     "output_type": "stream",
     "text": [
      "Filename\tBytes\tLines\n",
      "test.txt \t 69 \t 5\n"
     ]
    }
   ],
   "source": [
    "!awk 'BEGIN {print \"Filename\\tBytes\\tLines\"} {bytes += length; lines++} END {print FILENAME, \"\\t\", bytes, \"\\t\", lines}' test.txt"
   ]
  },
  {
   "cell_type": "markdown",
   "id": "90fdeff9-2aa1-4d9d-bb82-3aac5a41ccb4",
   "metadata": {},
   "source": [
    "BEGIN 模式输出一个表头。接着，在每一行输入文件中，bytes 变量被增加文件行的长度，lines 变量被增加1。最后，在 END 模式中，输出文件名、总字节数和总行数。\n",
    "\n",
    "需要注意的是，在 BEGIN 模式中无法使用任何模式模式匹配模式空间中的文本。在 END 模式中，由于已经处理完了输入文件，因此 $0 和 $1 等变量的值已经失效，但可以使用 FILENAME 和 ARGC 等变量。"
   ]
  },
  {
   "cell_type": "markdown",
   "id": "27bda80a-df30-4fe8-a738-fbf856f85b58",
   "metadata": {},
   "source": [
    "ARGC 是 awk 内置变量，用于存储传递给 awk 脚本的命令行参数个数。\n",
    "\n",
    "具体来说，ARGC 存储的是命令行参数数组 ARGV 的长度，也就是 awk 命令后面跟着的参数个数（不包括输入文件）。\n"
   ]
  },
  {
   "cell_type": "code",
   "execution_count": 139,
   "id": "9a6290e0-864c-43e4-a84f-b309101a2471",
   "metadata": {},
   "outputs": [
    {
     "name": "stderr",
     "output_type": "stream",
     "text": [
      "The system cannot find the file specified.\n"
     ]
    }
   ],
   "source": [
    "!awk 'BEGIN { print \"Number of arguments:\", ARGC; print \"Arguments:\"; for (i = 0; i < ARGC; i++) print ARGV[i]; }' one two three"
   ]
  },
  {
   "cell_type": "markdown",
   "id": "b555719c-b068-4e47-b802-633b20a193bf",
   "metadata": {},
   "source": [
    "在上面的例子中，ARGV[0] 存储的是 awk 命令本身，而 ARGV[1]、ARGV[2]、ARGV[3] 分别存储了传递给 awk 的三个参数。\n",
    "\n",
    "需要注意的是，如果 awk 命令中没有输入文件，则 ARGC 只会包括 awk 命令本身以及传递给它的参数，不会包括任何输入文件。如果 awk 命令中包括一个或多个输入文件，则 ARGC 将包括输入文件的个数加上 awk 命令本身和传递给它的参数的个数。"
   ]
  },
  {
   "cell_type": "code",
   "execution_count": null,
   "id": "3a7fb10f-e1ae-4d29-9460-c3051f343f6f",
   "metadata": {},
   "outputs": [],
   "source": []
  },
  {
   "cell_type": "markdown",
   "id": "c02457e3-7854-4ab4-af9b-4d488d94f860",
   "metadata": {},
   "source": [
    "sprintf(format, expression)\n",
    "\n",
    "该函数将表达式expression按照指定的格式format进行格式化，并返回格式化后的字符串。"
   ]
  },
  {
   "cell_type": "code",
   "execution_count": 132,
   "id": "23dd1194-478c-43d7-b592-56e6e5ba8701",
   "metadata": {},
   "outputs": [
    {
     "name": "stdout",
     "output_type": "stream",
     "text": [
      "123.46\n"
     ]
    }
   ],
   "source": [
    "!awk 'BEGIN{a=123.456; printf \"%.2f\\n\", a}'"
   ]
  },
  {
   "cell_type": "markdown",
   "id": "3bc18a0f-c6fb-42ae-afe3-8612d01f5eba",
   "metadata": {},
   "source": [
    "`systime()`\n",
    "返回当前时间距离1970年1月1日0时0分0秒的秒数。\n",
    "\n",
    "`mktime(datespec)`\n",
    "根据datespec所指定的日期和时间，返回对应的秒数。\n",
    "\n",
    "`strftime(format, timestamp)`\n",
    "将timestamp表示的时间按照指定的格式format进行格式化，并返回格式化后的字符串。"
   ]
  },
  {
   "cell_type": "code",
   "execution_count": 133,
   "id": "7759d17e-2c4f-4f48-ab22-b8352b8434ff",
   "metadata": {},
   "outputs": [
    {
     "name": "stdout",
     "output_type": "stream",
     "text": [
      "1681138954\n",
      "1649384430\n"
     ]
    }
   ],
   "source": [
    "!awk 'BEGIN{print systime(); print mktime(\"2022 04 08 10 20 30\")}'"
   ]
  },
  {
   "cell_type": "markdown",
   "id": "53db8c6b-6071-4ea3-b236-58f34b3b1920",
   "metadata": {},
   "source": [
    "`sqrt(expression)`\n",
    "返回expression的平方根。\n",
    "\n",
    "`sin(expression)`\n",
    "返回expression的正弦值。\n",
    "\n",
    "`cos(expression)`\n",
    "返回expression的余弦值。\n",
    "\n",
    "`atan2(y, x)`\n",
    "返回点(x, y)的极角，以弧度表示。\n",
    "\n",
    "`rand()`\n",
    "返回一个介于0和1之间的随机数。"
   ]
  },
  {
   "cell_type": "code",
   "execution_count": 134,
   "id": "52051653-5330-4dfc-afee-18100ca081b3",
   "metadata": {},
   "outputs": [
    {
     "name": "stdout",
     "output_type": "stream",
     "text": [
      "5\n",
      "-0.132352\n",
      "0.991203\n",
      "0.643501\n",
      "0.924046\n"
     ]
    }
   ],
   "source": [
    "!awk 'BEGIN{a=25; print sqrt(a); print sin(a); print cos(a); print atan2(3,4); print rand()}'"
   ]
  },
  {
   "cell_type": "markdown",
   "id": "121de24e-2ea4-4c68-b786-c518f5def194",
   "metadata": {},
   "source": [
    "`length(string)`\n",
    "返回字符串string的长度。\n",
    "\n",
    "`index(string, substring)`\n",
    "返回substring在string中第一次出现的位置。\n",
    "\n",
    "`substr(string, start, length)`\n",
    "返回从string的start位置开始，长度为length的子串。\n",
    "\n",
    "`split(string, array, separator)`\n",
    "将字符串string按照separator进行分割，将分割后的结果存储到array数组中。"
   ]
  },
  {
   "cell_type": "code",
   "execution_count": 135,
   "id": "688e8f02-f949-456b-a2af-438bfcb5d570",
   "metadata": {},
   "outputs": [
    {
     "name": "stdout",
     "output_type": "stream",
     "text": [
      "11\n",
      "5\n",
      "llo,\n"
     ]
    }
   ],
   "source": [
    "!awk 'BEGIN{str=\"hello,world\"; print length(str); print index(str, \"o\"); print substr(str, 3, 4)}'"
   ]
  },
  {
   "cell_type": "code",
   "execution_count": null,
   "id": "b8fd618b-abdd-4715-af6f-bc56c759076a",
   "metadata": {},
   "outputs": [],
   "source": []
  },
  {
   "cell_type": "code",
   "execution_count": null,
   "id": "af5303b1-60c2-4598-b07a-b53ccca95577",
   "metadata": {},
   "outputs": [],
   "source": []
  },
  {
   "cell_type": "code",
   "execution_count": null,
   "id": "843f8dfb-0017-4e94-9439-353e0930ebd2",
   "metadata": {},
   "outputs": [],
   "source": []
  },
  {
   "cell_type": "markdown",
   "id": "28c18ffd-ab7f-4bf4-8895-281856edb3fb",
   "metadata": {},
   "source": [
    "awk 是一种强大的文本处理工具，可以用于在文本文件中搜索、过滤、替换、计算和格式化数据。\n",
    "\n",
    "awk 的基本语法是：`awk [options] 'pattern {action}' file`，其中 pattern 是用于匹配文本的正则表达式，action 是对匹配到的文本进行操作的命令。\n",
    "\n",
    "awk 的内置变量和函数可以用于执行各种常见的操作，如数学计算、字符串处理、数组操作等。\n",
    "\n",
    "常用的 awk 选项包括 -F 指定字段分隔符、-v 设置变量值、-f 指定脚本文件、-i 修改输入文件等。\n",
    "\n",
    "在 awk 中可以使用 BEGIN 和 END 段来执行一些初始化和结束操作，例如设置变量的初始值、打印总计等。\n",
    "\n",
    "awk 还可以通过 ARGV 和 ARGC 变量来操作命令行参数和参数数量。\n",
    "\n",
    "总的来说，awk 是一种非常强大和灵活的文本处理工具，可以处理各种复杂的文本数据。"
   ]
  },
  {
   "cell_type": "code",
   "execution_count": null,
   "id": "2f7e8318-1972-4ea0-9bc2-50d5d1573a1f",
   "metadata": {},
   "outputs": [],
   "source": []
  },
  {
   "cell_type": "code",
   "execution_count": null,
   "id": "b1a3f610-3e4a-4fec-a969-2d22ed112df7",
   "metadata": {},
   "outputs": [],
   "source": []
  },
  {
   "cell_type": "markdown",
   "id": "bfb826e2-eef4-4397-b090-8cd35ff8fbe6",
   "metadata": {},
   "source": [
    "### grep、sed、awk 的异同点及适用场景\n",
    "\n",
    "grep、sed、awk 都是在 Linux 系统下经常使用的文本处理工具，它们可以用来搜索、替换、处理文本等任务。这三个工具的主要区别如下：\n",
    "\n",
    "grep 主要用于搜索文本内容，常用选项包括 -i（忽略大小写）、-n（显示行号）、-v（显示不匹配的行）等。grep 适用于需要快速搜索文本的场景。\n",
    "\n",
    "sed 主要用于对文本进行替换、删除、插入等操作，它可以根据正则表达式匹配文本并进行相应的处理。sed 适用于需要对文本进行大规模修改的场景。\n",
    "\n",
    "awk 主要用于对文本进行格式化和分析，它可以对文本进行分隔、计算、统计等操作，还可以使用内置函数进行一些高级操作。awk 适用于需要进行文本分析和处理的场景。\n",
    "\n",
    "虽然三个工具都可以处理文本，但各有其特点和适用场景。一般来说，如果需要快速搜索文本，可以使用 grep；如果需要对文本进行大规模修改，可以使用 sed；如果需要对文本进行分析和处理，可以使用 awk。当然，在实际使用中，往往需要将它们组合使用，以达到更好\n"
   ]
  },
  {
   "cell_type": "markdown",
   "id": "4741ed8c-145b-4fbd-a6a8-c5e279a0ab81",
   "metadata": {},
   "source": [
    "如果只需要对简单的文本文件进行一些处理和分析，比如列提取、行过滤、统计计算等，\n",
    "awk 是一个非常好的选择，因为它的语法简单、易学易用，并且可以快速处理大规模的文本文件。"
   ]
  },
  {
   "cell_type": "markdown",
   "id": "931d9785-1a19-42ae-b6c7-71eba6cc4acc",
   "metadata": {},
   "source": [
    "如果需要对数据进行更复杂的处理，如使用数据分析和可视化工具进行可视化分析、使用机器学习算法进行预测和建模等，则使用Python等更高级的脚本语言可能更为合适。"
   ]
  },
  {
   "cell_type": "code",
   "execution_count": null,
   "id": "004bfccb-10e7-4de3-a745-831ca7d77ced",
   "metadata": {},
   "outputs": [],
   "source": []
  },
  {
   "cell_type": "code",
   "execution_count": null,
   "id": "da92d76a-ac20-493a-b298-2a7d97b554b8",
   "metadata": {},
   "outputs": [],
   "source": []
  },
  {
   "cell_type": "code",
   "execution_count": null,
   "id": "2c8584dd-97c9-45e0-9b4b-65339efd97b8",
   "metadata": {},
   "outputs": [],
   "source": [
    "\n",
    "\n"
   ]
  },
  {
   "cell_type": "code",
   "execution_count": null,
   "id": "1c65b1f2-a14b-4706-9de2-ee0465de23d5",
   "metadata": {},
   "outputs": [],
   "source": []
  },
  {
   "cell_type": "code",
   "execution_count": null,
   "id": "ec8c1ef5-44b2-49e0-87da-6fb35213bf33",
   "metadata": {},
   "outputs": [],
   "source": []
  },
  {
   "cell_type": "code",
   "execution_count": null,
   "id": "dec7a934-d723-471b-a9d1-18539461d796",
   "metadata": {},
   "outputs": [],
   "source": []
  }
 ],
 "metadata": {
  "kernelspec": {
   "display_name": "Python 3 (ipykernel)",
   "language": "python",
   "name": "python3"
  },
  "language_info": {
   "codemirror_mode": {
    "name": "ipython",
    "version": 3
   },
   "file_extension": ".py",
   "mimetype": "text/x-python",
   "name": "python",
   "nbconvert_exporter": "python",
   "pygments_lexer": "ipython3",
   "version": "3.9.12"
  }
 },
 "nbformat": 4,
 "nbformat_minor": 5
}
